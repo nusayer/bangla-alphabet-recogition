{
 "cells": [
  {
   "cell_type": "code",
   "execution_count": 72,
   "metadata": {},
   "outputs": [
    {
     "name": "stdout",
     "output_type": "stream",
     "text": [
      "['A', 'AA', 'Ai', 'AKAR', 'Anus', 'Au', 'BA', 'BHA', 'BINDU', 'CA', 'CHA', 'DA', 'DDA', 'DDHA', 'DGHI', 'DHA', 'DHRA', 'E', 'EKAR', 'GA', 'GHA', 'HA', 'I', 'II', 'JA', 'JHA', 'KA', 'KHA', 'KHAND', 'LA', 'MA', 'NA', 'NGA', 'NNA', 'NYA', 'O', 'PA', 'PHA', 'R', 'RA', 'RRA', 'RSHI', 'RSHU', 'SA', 'SHA', 'SSA', 'TA', 'THA', 'TTA', 'TTHA', 'U', 'UU', 'VISARG', 'YY', 'YYA']\n"
     ]
    },
    {
     "data": {
      "image/png": "[encoded data removed]",
      "text/plain": [
       "<Figure size 432x288 with 1 Axes>"
      ]
     },
     "metadata": {
      "needs_background": "light"
     },
     "output_type": "display_data"
    }
   ],
   "source": [
    "import numpy as np\n",
    "import matplotlib.pyplot as plt\n",
    "import os\n",
    "import cv2\n",
    "from tqdm import tqdm\n",
    "\n",
    "DATADIR = \"Bangla_Dataset\"\n",
    "CATEGORIES = []\n",
    "for categories in os.walk(DATADIR):\n",
    "    CATEGORIES=categories[1]\n",
    "    break\n",
    "print(CATEGORIES)\n",
    "for category in CATEGORIES:  # do dogs and cats\n",
    "    path = os.path.join(DATADIR,category)  # create path to dogs and cats\n",
    "    for img in os.listdir(path):  # iterate over each image per dogs and cats\n",
    "        img_array = cv2.imread(os.path.join(path,img) ,cv2.IMREAD_GRAYSCALE)  # convert to array\n",
    "        plt.imshow(img_array, cmap='gray')  # graph it\n",
    "        plt.show()  # display!\n",
    "\n",
    "        break  # we just want one for now so break\n",
    "    break  #...and one more!"
   ]
  },
  {
   "cell_type": "code",
   "execution_count": 73,
   "metadata": {},
   "outputs": [
    {
     "name": "stdout",
     "output_type": "stream",
     "text": [
      "<class 'numpy.ndarray'>\n"
     ]
    }
   ],
   "source": [
    "print(type(img_array))"
   ]
  },
  {
   "cell_type": "code",
   "execution_count": 74,
   "metadata": {},
   "outputs": [
    {
     "name": "stdout",
     "output_type": "stream",
     "text": [
      "(170, 171)\n"
     ]
    }
   ],
   "source": [
    "print(img_array.shape)"
   ]
  },
  {
   "cell_type": "code",
   "execution_count": 76,
   "metadata": {},
   "outputs": [
    {
     "data": {
      "image/png": "[encoded data removed]",
      "text/plain": [
       "<Figure size 432x288 with 1 Axes>"
      ]
     },
     "metadata": {
      "needs_background": "light"
     },
     "output_type": "display_data"
    }
   ],
   "source": [
    "IMG_SIZE = 50\n",
    "\n",
    "new_array = cv2.resize(img_array, (IMG_SIZE, IMG_SIZE))\n",
    "plt.imshow(new_array, cmap='gray')\n",
    "plt.show()"
   ]
  },
  {
   "cell_type": "code",
   "execution_count": 77,
   "metadata": {},
   "outputs": [
    {
     "name": "stderr",
     "output_type": "stream",
     "text": [
      "100%|█████████████████████████████████████████████████████████████████████████████| 2027/2027 [00:06<00:00, 292.06it/s]\n",
      "100%|█████████████████████████████████████████████████████████████████████████████| 2032/2032 [00:06<00:00, 307.20it/s]\n",
      "100%|█████████████████████████████████████████████████████████████████████████████| 2036/2036 [00:06<00:00, 316.93it/s]\n",
      "100%|█████████████████████████████████████████████████████████████████████████████████| 32/32 [00:00<00:00, 381.20it/s]\n",
      "100%|█████████████████████████████████████████████████████████████████████████████| 2035/2035 [00:06<00:00, 328.09it/s]\n",
      "100%|█████████████████████████████████████████████████████████████████████████████| 2034/2034 [00:06<00:00, 320.76it/s]\n",
      "100%|█████████████████████████████████████████████████████████████████████████████| 2035/2035 [00:05<00:00, 370.59it/s]\n",
      "100%|█████████████████████████████████████████████████████████████████████████████| 2032/2032 [00:05<00:00, 361.34it/s]\n",
      "100%|█████████████████████████████████████████████████████████████████████████████| 2033/2033 [00:05<00:00, 399.43it/s]\n",
      "100%|█████████████████████████████████████████████████████████████████████████████| 2035/2035 [00:05<00:00, 346.32it/s]\n",
      "100%|█████████████████████████████████████████████████████████████████████████████| 2033/2033 [00:07<00:00, 288.07it/s]\n",
      "100%|█████████████████████████████████████████████████████████████████████████████| 2033/2033 [00:05<00:00, 362.91it/s]\n",
      "100%|█████████████████████████████████████████████████████████████████████████████| 2033/2033 [00:05<00:00, 382.52it/s]\n",
      "100%|█████████████████████████████████████████████████████████████████████████████| 2029/2029 [00:05<00:00, 383.37it/s]\n",
      "100%|█████████████████████████████████████████████████████████████████████████████████| 32/32 [00:00<00:00, 432.89it/s]\n",
      "100%|█████████████████████████████████████████████████████████████████████████████| 2020/2020 [00:05<00:00, 379.52it/s]\n",
      "100%|█████████████████████████████████████████████████████████████████████████████| 2022/2022 [00:05<00:00, 365.59it/s]\n",
      "100%|█████████████████████████████████████████████████████████████████████████████| 2037/2037 [00:05<00:00, 382.90it/s]\n",
      "100%|█████████████████████████████████████████████████████████████████████████████████| 32/32 [00:00<00:00, 473.10it/s]\n",
      "100%|█████████████████████████████████████████████████████████████████████████████| 2035/2035 [00:06<00:00, 328.69it/s]\n",
      "100%|█████████████████████████████████████████████████████████████████████████████| 2027/2027 [00:06<00:00, 290.81it/s]\n",
      "100%|█████████████████████████████████████████████████████████████████████████████| 2031/2031 [00:05<00:00, 358.42it/s]\n",
      "100%|█████████████████████████████████████████████████████████████████████████████| 2031/2031 [00:07<00:00, 286.34it/s]\n",
      "100%|█████████████████████████████████████████████████████████████████████████████| 2034/2034 [00:07<00:00, 286.45it/s]\n",
      "100%|█████████████████████████████████████████████████████████████████████████████| 2032/2032 [00:07<00:00, 277.80it/s]\n",
      "100%|█████████████████████████████████████████████████████████████████████████████| 2034/2034 [00:07<00:00, 273.93it/s]\n",
      "100%|█████████████████████████████████████████████████████████████████████████████| 2036/2036 [00:06<00:00, 323.89it/s]\n",
      "100%|█████████████████████████████████████████████████████████████████████████████| 2021/2021 [00:06<00:00, 292.19it/s]\n",
      "100%|█████████████████████████████████████████████████████████████████████████████| 2032/2032 [00:06<00:00, 327.32it/s]\n",
      "100%|█████████████████████████████████████████████████████████████████████████████| 2021/2021 [00:06<00:00, 331.88it/s]\n",
      "100%|█████████████████████████████████████████████████████████████████████████████| 2035/2035 [00:07<00:00, 285.48it/s]\n",
      "100%|█████████████████████████████████████████████████████████████████████████████| 2035/2035 [00:06<00:00, 309.75it/s]\n",
      "100%|█████████████████████████████████████████████████████████████████████████████| 2032/2032 [00:06<00:00, 323.37it/s]\n",
      "100%|█████████████████████████████████████████████████████████████████████████████| 2032/2032 [00:06<00:00, 328.86it/s]\n",
      "100%|█████████████████████████████████████████████████████████████████████████████| 2040/2040 [00:06<00:00, 313.15it/s]\n",
      "100%|█████████████████████████████████████████████████████████████████████████████| 2033/2033 [00:06<00:00, 330.49it/s]\n",
      "100%|█████████████████████████████████████████████████████████████████████████████| 2037/2037 [00:05<00:00, 351.79it/s]\n",
      "100%|█████████████████████████████████████████████████████████████████████████████| 2034/2034 [00:06<00:00, 319.84it/s]\n",
      "100%|█████████████████████████████████████████████████████████████████████████████| 2023/2023 [00:06<00:00, 294.64it/s]\n",
      "100%|█████████████████████████████████████████████████████████████████████████████| 2036/2036 [00:06<00:00, 334.92it/s]\n",
      "100%|█████████████████████████████████████████████████████████████████████████████| 2036/2036 [00:05<00:00, 356.11it/s]\n",
      "100%|█████████████████████████████████████████████████████████████████████████████████| 32/32 [00:00<00:00, 464.40it/s]\n",
      "100%|█████████████████████████████████████████████████████████████████████████████████| 32/32 [00:00<00:00, 487.19it/s]\n",
      "100%|█████████████████████████████████████████████████████████████████████████████| 2033/2033 [00:06<00:00, 319.50it/s]\n",
      "100%|█████████████████████████████████████████████████████████████████████████████| 2031/2031 [00:08<00:00, 252.35it/s]\n",
      "100%|█████████████████████████████████████████████████████████████████████████████| 2024/2024 [00:06<00:00, 336.31it/s]\n",
      "100%|█████████████████████████████████████████████████████████████████████████████| 2027/2027 [00:06<00:00, 307.49it/s]\n",
      "100%|█████████████████████████████████████████████████████████████████████████████| 2029/2029 [00:07<00:00, 268.88it/s]\n",
      "100%|█████████████████████████████████████████████████████████████████████████████| 2029/2029 [00:07<00:00, 262.06it/s]\n",
      "100%|█████████████████████████████████████████████████████████████████████████████| 1993/1993 [00:06<00:00, 299.76it/s]\n",
      "100%|█████████████████████████████████████████████████████████████████████████████| 2034/2034 [00:07<00:00, 266.89it/s]\n",
      "100%|█████████████████████████████████████████████████████████████████████████████| 2034/2034 [00:07<00:00, 282.31it/s]\n",
      "100%|█████████████████████████████████████████████████████████████████████████████| 2033/2033 [00:05<00:00, 339.55it/s]\n",
      "100%|█████████████████████████████████████████████████████████████████████████████| 2038/2038 [00:06<00:00, 325.85it/s]\n",
      "100%|█████████████████████████████████████████████████████████████████████████████| 2032/2032 [00:05<00:00, 345.78it/s]\n"
     ]
    }
   ],
   "source": [
    "training_data = []\n",
    "\n",
    "def create_training_data():\n",
    "    for category in CATEGORIES:  # do dogs and cats\n",
    "\n",
    "        path = os.path.join(DATADIR,category)  # create path to dogs and cats\n",
    "        class_num = CATEGORIES.index(category)  # get the classification  (0 or a 1). 0=dog 1=cat\n",
    "\n",
    "        for img in tqdm(os.listdir(path)):  # iterate over each image per dogs and cats\n",
    "            try:\n",
    "                img_array = cv2.imread(os.path.join(path,img) ,cv2.IMREAD_GRAYSCALE)  # convert to array\n",
    "                new_array = cv2.resize(img_array, (IMG_SIZE, IMG_SIZE))  # resize to normalize data size\n",
    "                training_data.append([new_array, class_num])  # add this to our training_data\n",
    "            except Exception as e:  # in the interest in keeping the output clean...\n",
    "                pass\n",
    "            #except OSError as e:\n",
    "            #    print(\"OSErrroBad img most likely\", e, os.path.join(path,img))\n",
    "            #except Exception as e:\n",
    "            #    print(\"general exception\", e, os.path.join(path,img))\n",
    "\n",
    "create_training_data()"
   ]
  },
  {
   "cell_type": "code",
   "execution_count": 78,
   "metadata": {},
   "outputs": [
    {
     "name": "stdout",
     "output_type": "stream",
     "text": [
      "101644\n"
     ]
    }
   ],
   "source": [
    "print(len(training_data))"
   ]
  },
  {
   "cell_type": "code",
   "execution_count": 79,
   "metadata": {},
   "outputs": [],
   "source": [
    "import random\n",
    "\n",
    "random.shuffle(training_data)"
   ]
  },
  {
   "cell_type": "code",
   "execution_count": 80,
   "metadata": {},
   "outputs": [
    {
     "name": "stdout",
     "output_type": "stream",
     "text": [
      "28\n",
      "11\n",
      "49\n",
      "9\n",
      "26\n",
      "13\n",
      "46\n",
      "49\n",
      "17\n",
      "11\n"
     ]
    }
   ],
   "source": [
    "for sample in training_data[:10]:\n",
    "    print(sample[1])"
   ]
  },
  {
   "cell_type": "code",
   "execution_count": 81,
   "metadata": {},
   "outputs": [
    {
     "name": "stdout",
     "output_type": "stream",
     "text": [
      "[[[[0]\n",
      "   [0]\n",
      "   [0]\n",
      "   ...\n",
      "   [0]\n",
      "   [0]\n",
      "   [0]]\n",
      "\n",
      "  [[0]\n",
      "   [0]\n",
      "   [0]\n",
      "   ...\n",
      "   [0]\n",
      "   [0]\n",
      "   [0]]\n",
      "\n",
      "  [[0]\n",
      "   [0]\n",
      "   [0]\n",
      "   ...\n",
      "   [0]\n",
      "   [0]\n",
      "   [0]]\n",
      "\n",
      "  ...\n",
      "\n",
      "  [[0]\n",
      "   [0]\n",
      "   [0]\n",
      "   ...\n",
      "   [0]\n",
      "   [0]\n",
      "   [0]]\n",
      "\n",
      "  [[0]\n",
      "   [0]\n",
      "   [0]\n",
      "   ...\n",
      "   [0]\n",
      "   [0]\n",
      "   [0]]\n",
      "\n",
      "  [[0]\n",
      "   [0]\n",
      "   [0]\n",
      "   ...\n",
      "   [0]\n",
      "   [0]\n",
      "   [0]]]]\n"
     ]
    }
   ],
   "source": [
    "X = []\n",
    "y = []\n",
    "\n",
    "for features,label in training_data:\n",
    "    X.append(features)\n",
    "    y.append(label)\n",
    "\n",
    "print(X[0].reshape(-1, IMG_SIZE, IMG_SIZE, 1))\n",
    "\n",
    "X = np.array(X).reshape(-1, IMG_SIZE, IMG_SIZE, 1)\n",
    "y = np.array(y)\n"
   ]
  },
  {
   "cell_type": "code",
   "execution_count": 82,
   "metadata": {},
   "outputs": [],
   "source": [
    "np.save('features.npy',X)\n",
    "np.save('label.npy',y)"
   ]
  },
  {
   "cell_type": "code",
   "execution_count": 83,
   "metadata": {},
   "outputs": [
    {
     "name": "stdout",
     "output_type": "stream",
     "text": [
      "101644\n"
     ]
    }
   ],
   "source": [
    "print(len(X))"
   ]
  },
  {
   "cell_type": "code",
   "execution_count": null,
   "metadata": {},
   "outputs": [],
   "source": []
  }
 ],
 "metadata": {
  "kernelspec": {
   "display_name": "Python 3",
   "language": "python",
   "name": "python3"
  },
  "language_info": {
   "codemirror_mode": {
    "name": "ipython",
    "version": 3
   },
   "file_extension": ".py",
   "mimetype": "text/x-python",
   "name": "python",
   "nbconvert_exporter": "python",
   "pygments_lexer": "ipython3",
   "version": "3.7.4"
  }
 },
 "nbformat": 4,
 "nbformat_minor": 2
}
