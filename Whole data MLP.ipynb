{
 "cells": [
  {
   "cell_type": "code",
   "execution_count": 5,
   "metadata": {},
   "outputs": [
    {
     "name": "stdout",
     "output_type": "stream",
     "text": [
      "Train on 91479 samples, validate on 10165 samples\n",
      "91479/91479 [==============================] - 24s 259us/sample - loss: 2.0393 - accuracy: 0.4322 - val_loss: 1.4056 - val_accuracy: 0.5924\n"
     ]
    },
    {
     "data": {
      "text/plain": [
       "<tensorflow.python.keras.callbacks.History at 0x2e16203dd48>"
      ]
     },
     "execution_count": 5,
     "metadata": {},
     "output_type": "execute_result"
    }
   ],
   "source": [
    "import numpy as np\n",
    "import tensorflow as tf\n",
    "from tensorflow.keras.datasets import cifar10\n",
    "from tensorflow.keras.preprocessing.image import ImageDataGenerator\n",
    "from tensorflow.keras.models import Sequential\n",
    "from tensorflow.keras.layers import Dense, Dropout, Activation, Flatten\n",
    "\n",
    "\n",
    "X=np.load('features.npy')\n",
    "y=np.load('label.npy')\n",
    "\n",
    "X = X.reshape(101644,2500)\n",
    "X = X/255.0\n",
    "\n",
    "model = Sequential()\n",
    "\n",
    "#imput layer\n",
    "model.add(Dense(128, input_shape=(2500,)))\n",
    "model.add(Activation('relu'))\n",
    "model.add(Dropout(0.15))\n",
    "#hidden layer\n",
    "model.add(Dense(128))\n",
    "model.add(Activation('relu'))\n",
    "model.add(Dropout(0.15))\n",
    "#output layer\n",
    "model.add(Dense(55, activation = \"softmax\"))\n",
    "\n",
    "\n",
    "model.compile(\n",
    "    optimizer='adam',\n",
    "    loss=['sparse_categorical_crossentropy'],\n",
    "    metrics=['accuracy']\n",
    ")\n",
    "\n",
    "model.fit(X, y, batch_size=32,validation_split=0.1)"
   ]
  },
  {
   "cell_type": "code",
   "execution_count": null,
   "metadata": {},
   "outputs": [],
   "source": []
  }
 ],
 "metadata": {
  "kernelspec": {
   "display_name": "Python 3",
   "language": "python",
   "name": "python3"
  },
  "language_info": {
   "codemirror_mode": {
    "name": "ipython",
    "version": 3
   },
   "file_extension": ".py",
   "mimetype": "text/x-python",
   "name": "python",
   "nbconvert_exporter": "python",
   "pygments_lexer": "ipython3",
   "version": "3.7.4"
  }
 },
 "nbformat": 4,
 "nbformat_minor": 2
}
