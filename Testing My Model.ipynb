{
 "cells": [
  {
   "cell_type": "code",
   "execution_count": 14,
   "metadata": {},
   "outputs": [
    {
     "name": "stdout",
     "output_type": "stream",
     "text": [
      "[[6.01784413e-05 2.54333997e-07 3.75447271e-04 4.01775026e-07\n",
      "  7.20164087e-03 1.96025401e-04 7.76266214e-04 2.92504560e-02\n",
      "  2.99692852e-04 2.10709110e-01 3.19371074e-02 2.85326429e-02\n",
      "  6.62729517e-02 9.07767341e-02 1.63942093e-06 1.46627147e-03\n",
      "  2.47063965e-01 9.02291504e-04 8.88414143e-05 3.09106908e-05\n",
      "  3.89398861e-04 2.98316870e-03 1.25080778e-03 2.70461402e-04\n",
      "  2.44930871e-02 1.38938085e-05 1.12812093e-03 7.87297358e-06\n",
      "  1.41378697e-02 2.62116555e-05 2.00096227e-04 5.85677953e-05\n",
      "  3.87282409e-02 1.22838552e-04 1.98075340e-05 2.57508177e-03\n",
      "  3.47468798e-04 4.87660465e-04 1.25526567e-05 2.79610441e-03\n",
      "  1.59519121e-01 1.01700673e-04 4.12252812e-05 5.19984867e-04\n",
      "  1.54417830e-05 2.42647645e-03 1.12731922e-02 1.11242616e-05\n",
      "  1.22552412e-02 2.17849738e-03 3.28836194e-03 3.29221832e-04\n",
      "  1.14156911e-03 3.96755990e-04 5.09753183e-04]]\n"
     ]
    }
   ],
   "source": [
    "import os\n",
    "import tensorflow as tf\n",
    "\n",
    "DATADIR = \"Bangla_Dataset\"\n",
    "CATEGORIES = []\n",
    "for categories in os.walk(DATADIR):\n",
    "    CATEGORIES=categories[1]\n",
    "    break\n",
    "\n",
    "def prepare(filepath):\n",
    "    IMG_SIZE = 50  \n",
    "    img_array = cv2.imread(filepath, cv2.IMREAD_GRAYSCALE)\n",
    "    img_array = img_array/255.0\n",
    "    new_array = cv2.resize(img_array, (IMG_SIZE, IMG_SIZE))\n",
    "    return new_array.reshape(-1, IMG_SIZE, IMG_SIZE, 1)\n",
    "\n",
    "model = tf.keras.models.load_model(\"myCnn.model\")\n",
    "\n",
    "\n",
    "# print(CATEGORIES[int(prediction[0][0])])"
   ]
  },
  {
   "cell_type": "code",
   "execution_count": 39,
   "metadata": {},
   "outputs": [
    {
     "name": "stdout",
     "output_type": "stream",
     "text": [
      "A\n"
     ]
    }
   ],
   "source": [
    "import numpy as np\n",
    "prediction = model.predict_proba([prepare('testi.jpg')])\n",
    "print(CATEGORIES[np.argmax(prediction)])"
   ]
  },
  {
   "cell_type": "code",
   "execution_count": null,
   "metadata": {},
   "outputs": [],
   "source": []
  },
  {
   "cell_type": "code",
   "execution_count": null,
   "metadata": {},
   "outputs": [],
   "source": []
  }
 ],
 "metadata": {
  "kernelspec": {
   "display_name": "Python 3",
   "language": "python",
   "name": "python3"
  },
  "language_info": {
   "codemirror_mode": {
    "name": "ipython",
    "version": 3
   },
   "file_extension": ".py",
   "mimetype": "text/x-python",
   "name": "python",
   "nbconvert_exporter": "python",
   "pygments_lexer": "ipython3",
   "version": "3.7.4"
  }
 },
 "nbformat": 4,
 "nbformat_minor": 2
}
